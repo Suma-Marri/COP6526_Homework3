{
  "nbformat": 4,
  "nbformat_minor": 0,
  "metadata": {
    "colab": {
      "provenance": [],
      "authorship_tag": "ABX9TyMrlf9p9rFQn+jrrnhE+RHW",
      "include_colab_link": true
    },
    "kernelspec": {
      "name": "python3",
      "display_name": "Python 3"
    },
    "language_info": {
      "name": "python"
    }
  },
  "cells": [
    {
      "cell_type": "markdown",
      "metadata": {
        "id": "view-in-github",
        "colab_type": "text"
      },
      "source": [
        "<a href=\"https://colab.research.google.com/github/Suma-Marri/COP6526_Homework3/blob/main/COP6526_Homework3.ipynb\" target=\"_parent\"><img src=\"https://colab.research.google.com/assets/colab-badge.svg\" alt=\"Open In Colab\"/></a>"
      ]
    },
    {
      "cell_type": "code",
      "execution_count": 1,
      "metadata": {
        "colab": {
          "base_uri": "https://localhost:8080/"
        },
        "id": "QrWhphWRl62s",
        "outputId": "92b564e0-649e-404e-d444-503dab52980a"
      },
      "outputs": [
        {
          "output_type": "stream",
          "name": "stdout",
          "text": [
            "1668974342.1462536\n"
          ]
        }
      ],
      "source": [
        "import time\n",
        "start = time.time()\n",
        "print(start)"
      ]
    },
    {
      "cell_type": "code",
      "source": [
        "import multiprocessing\n",
        "import subprocess\n",
        "import shlex\n",
        "from multiprocessing.pool import ThreadPool"
      ],
      "metadata": {
        "id": "VAhHeNDmmBPO"
      },
      "execution_count": 2,
      "outputs": []
    },
    {
      "cell_type": "code",
      "source": [
        "def call_proc(cmd):\n",
        "  p=subprocess.Popen(shlex.split(cmd), stdout=subprocess.PIPE, stderr=subprocess.PIPE)\n",
        "  out, err=p.communicate()\n",
        "  return (out, err)"
      ],
      "metadata": {
        "id": "enefToX_mNyI"
      },
      "execution_count": 3,
      "outputs": []
    },
    {
      "cell_type": "code",
      "source": [
        "pool = ThreadPool(multiprocessing.cpu_count())\n",
        "results = []\n",
        "arguments = 'str'\n",
        "\n",
        "for i in range(1,20):\n",
        "  arguments += r\"NonlinearRegression.py\"\n",
        "  results.append(pool.apply_async(call_proc, (\".combine\" + arguments,)))\n",
        "\n",
        "pool.close()\n",
        "pool.join()"
      ],
      "metadata": {
        "id": "6SCT7PYXmtDF"
      },
      "execution_count": 4,
      "outputs": []
    },
    {
      "cell_type": "code",
      "source": [
        "end=time.time()\n",
        "print(end)"
      ],
      "metadata": {
        "colab": {
          "base_uri": "https://localhost:8080/"
        },
        "id": "7hqWtyABnj5U",
        "outputId": "2dd31976-5e93-4e70-b4a3-972f12519b28"
      },
      "execution_count": 5,
      "outputs": [
        {
          "output_type": "stream",
          "name": "stdout",
          "text": [
            "1668974342.4497242\n"
          ]
        }
      ]
    },
    {
      "cell_type": "code",
      "source": [
        "end - start"
      ],
      "metadata": {
        "colab": {
          "base_uri": "https://localhost:8080/"
        },
        "id": "Yn6-oswfnxBA",
        "outputId": "a02da9e8-2669-471a-af9b-ab88645f71da"
      },
      "execution_count": 6,
      "outputs": [
        {
          "output_type": "execute_result",
          "data": {
            "text/plain": [
              "0.3034706115722656"
            ]
          },
          "metadata": {},
          "execution_count": 6
        }
      ]
    }
  ]
}